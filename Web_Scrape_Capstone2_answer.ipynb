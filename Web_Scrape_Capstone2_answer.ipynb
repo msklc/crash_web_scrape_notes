{
 "cells": [
  {
   "cell_type": "markdown",
   "metadata": {},
   "source": [
    "# Crash Web Scrape Notes (Python-BeautifulSoup)\n",
    "\n",
    "## CAPSTONE-2 - ANSWER"
   ]
  },
  {
   "cell_type": "markdown",
   "metadata": {},
   "source": [
    "### 7. CAPSTONE-2\n",
    "\n",
    "- Scrape all Angola movies from IMDB\n",
    "    - Movie names\n",
    "    - Produced Year\n",
    "    - IMDB Rank\n",
    "- Save them to CSV file\n",
    "\n",
    "(Hint: Use IMDB Advance search page https://www.imdb.com/search/title)"
   ]
  },
  {
   "cell_type": "code",
   "execution_count": 1,
   "metadata": {},
   "outputs": [
    {
     "name": "stdout",
     "output_type": "stream",
     "text": [
      "https://www.imdb.com/search/title/?countries=ao&start=1 >>>>complete\n",
      "https://www.imdb.com/search/title/?countries=ao&start=51 >>>>complete\n",
      "https://www.imdb.com/search/title/?countries=ao&start=101 >>>>complete\n"
     ]
    },
    {
     "data": {
      "text/html": [
       "<div>\n",
       "<style scoped>\n",
       "    .dataframe tbody tr th:only-of-type {\n",
       "        vertical-align: middle;\n",
       "    }\n",
       "\n",
       "    .dataframe tbody tr th {\n",
       "        vertical-align: top;\n",
       "    }\n",
       "\n",
       "    .dataframe thead th {\n",
       "        text-align: right;\n",
       "    }\n",
       "</style>\n",
       "<table border=\"1\" class=\"dataframe\">\n",
       "  <thead>\n",
       "    <tr style=\"text-align: right;\">\n",
       "      <th></th>\n",
       "      <th>Movie Name</th>\n",
       "      <th>Movie Year</th>\n",
       "      <th>Movie Rank</th>\n",
       "    </tr>\n",
       "  </thead>\n",
       "  <tbody>\n",
       "    <tr>\n",
       "      <th>0</th>\n",
       "      <td>Rubber</td>\n",
       "      <td>2010</td>\n",
       "      <td>5.8</td>\n",
       "    </tr>\n",
       "    <tr>\n",
       "      <th>1</th>\n",
       "      <td>Wrong Cops</td>\n",
       "      <td>2013</td>\n",
       "      <td>6.0</td>\n",
       "    </tr>\n",
       "    <tr>\n",
       "      <th>2</th>\n",
       "      <td>Into the Okavango</td>\n",
       "      <td>2018</td>\n",
       "      <td>7.7</td>\n",
       "    </tr>\n",
       "    <tr>\n",
       "      <th>3</th>\n",
       "      <td>Voo Directo</td>\n",
       "      <td>2010–2011</td>\n",
       "      <td>7.6</td>\n",
       "    </tr>\n",
       "    <tr>\n",
       "      <th>4</th>\n",
       "      <td>Jikulumessu</td>\n",
       "      <td>2014–2015</td>\n",
       "      <td>8.2</td>\n",
       "    </tr>\n",
       "  </tbody>\n",
       "</table>\n",
       "</div>"
      ],
      "text/plain": [
       "          Movie Name Movie Year Movie Rank\n",
       "0             Rubber       2010        5.8\n",
       "1         Wrong Cops       2013        6.0\n",
       "2  Into the Okavango       2018        7.7\n",
       "3        Voo Directo  2010–2011        7.6\n",
       "4        Jikulumessu  2014–2015        8.2"
      ]
     },
     "execution_count": 1,
     "metadata": {},
     "output_type": "execute_result"
    }
   ],
   "source": [
    "import requests\n",
    "from bs4 import BeautifulSoup\n",
    "import pandas as pd\n",
    "\n",
    "url='https://www.imdb.com/search/title/?countries=ao'\n",
    "r=requests.get(url)\n",
    "soup = BeautifulSoup(r.text,'html.parser')\n",
    "\n",
    "#Scrape total movie numbers\n",
    "tot_num=int(soup.find('div',{'class':'desc'}).find('span').text.split('of')[1].split()[0].strip())\n",
    "\n",
    "#Scrape names, years and ranks of movies\n",
    "start_num=1\n",
    "while start_num<tot_num:\n",
    "    url='https://www.imdb.com/search/title/?countries=ao&start={}'.format(start_num)\n",
    "    start_num+=50\n",
    "\n",
    "    #Scrape names, years and ranks of movies every pages\n",
    "    rows=soup.find('div',{'class':'lister-list'})\n",
    "    rows=rows.find_all('div',{'class':'lister-item mode-advanced'})\n",
    "\n",
    "    names=[]\n",
    "    years=[]\n",
    "    ranks=[]\n",
    "\n",
    "    for row in rows:\n",
    "        name=row.find('h3',{'class':\"lister-item-header\"}).find('a').text.strip()\n",
    "        names.append(name)\n",
    "        year=row.find('span',{'class':\"lister-item-year text-muted unbold\"}).text.strip('()')\n",
    "        years.append(year)\n",
    "        try: #because some movies don't have ranks\n",
    "            rank=row.find('div',{'class':\"inline-block ratings-imdb-rating\"}).find('strong').text.strip()\n",
    "            ranks.append(rank)\n",
    "        except:\n",
    "            ranks.append('None')\n",
    "    print(url+' >>>>complete')\n",
    "    \n",
    "#Create dataframe\n",
    "df = pd.DataFrame({'Movie Name':names,'Movie Year':years,'Movie Rank':ranks})\n",
    "df.head()"
   ]
  },
  {
   "cell_type": "code",
   "execution_count": 2,
   "metadata": {},
   "outputs": [],
   "source": [
    "#Save scraped data to CSV file\n",
    "df.to_csv('Movies_of_Andora.csv')"
   ]
  }
 ],
 "metadata": {
  "kernelspec": {
   "display_name": "Python 3",
   "language": "python",
   "name": "python3"
  },
  "language_info": {
   "codemirror_mode": {
    "name": "ipython",
    "version": 3
   },
   "file_extension": ".py",
   "mimetype": "text/x-python",
   "name": "python",
   "nbconvert_exporter": "python",
   "pygments_lexer": "ipython3",
   "version": "3.7.4"
  }
 },
 "nbformat": 4,
 "nbformat_minor": 2
}
