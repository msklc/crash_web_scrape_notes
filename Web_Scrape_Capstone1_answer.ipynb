{
 "cells": [
  {
   "cell_type": "markdown",
   "metadata": {},
   "source": [
    "# Crash Web Scrape Notes (Python-BeautifulSoup)\n",
    "\n",
    "## CAPSTONE-1 - ANSWER"
   ]
  },
  {
   "cell_type": "markdown",
   "metadata": {},
   "source": [
    "__5.3. CAPSTONE-1:__\n",
    "\n",
    "- Gather __all detail data__ of Netherlands municipalities from [wikipedia](https://en.wikipedia.org/wiki/List_of_municipalities_of_the_Netherlands)\n",
    "- Save them to CSV file"
   ]
  },
  {
   "cell_type": "code",
   "execution_count": 1,
   "metadata": {},
   "outputs": [
    {
     "data": {
      "text/html": [
       "<div>\n",
       "<style scoped>\n",
       "    .dataframe tbody tr th:only-of-type {\n",
       "        vertical-align: middle;\n",
       "    }\n",
       "\n",
       "    .dataframe tbody tr th {\n",
       "        vertical-align: top;\n",
       "    }\n",
       "\n",
       "    .dataframe thead th {\n",
       "        text-align: right;\n",
       "    }\n",
       "</style>\n",
       "<table border=\"1\" class=\"dataframe\">\n",
       "  <thead>\n",
       "    <tr style=\"text-align: right;\">\n",
       "      <th></th>\n",
       "      <th>Municipality</th>\n",
       "      <th>CBS Code</th>\n",
       "      <th>Province</th>\n",
       "      <th>Population</th>\n",
       "      <th>Population Density</th>\n",
       "      <th>Land Area</th>\n",
       "    </tr>\n",
       "  </thead>\n",
       "  <tbody>\n",
       "    <tr>\n",
       "      <th>0</th>\n",
       "      <td>Aa en Hunze</td>\n",
       "      <td>1680</td>\n",
       "      <td>Drenthe</td>\n",
       "      <td>25,386</td>\n",
       "      <td>92/km2 (240/sq mi)</td>\n",
       "      <td>276.09 km2 (106.60 sq mi)</td>\n",
       "    </tr>\n",
       "    <tr>\n",
       "      <th>1</th>\n",
       "      <td>Aalsmeer</td>\n",
       "      <td>0358</td>\n",
       "      <td>North Holland</td>\n",
       "      <td>31,728</td>\n",
       "      <td>1,577/km2 (4,080/sq mi)</td>\n",
       "      <td>20.12 km2 (7.77 sq mi)</td>\n",
       "    </tr>\n",
       "    <tr>\n",
       "      <th>2</th>\n",
       "      <td>Aalten</td>\n",
       "      <td>0197</td>\n",
       "      <td>Gelderland</td>\n",
       "      <td>27,011</td>\n",
       "      <td>280/km2 (730/sq mi)</td>\n",
       "      <td>96.54 km2 (37.27 sq mi)</td>\n",
       "    </tr>\n",
       "    <tr>\n",
       "      <th>3</th>\n",
       "      <td>Achtkarspelen</td>\n",
       "      <td>0059</td>\n",
       "      <td>Friesland</td>\n",
       "      <td>27,852</td>\n",
       "      <td>272/km2 (700/sq mi)</td>\n",
       "      <td>102.23 km2 (39.47 sq mi)</td>\n",
       "    </tr>\n",
       "    <tr>\n",
       "      <th>4</th>\n",
       "      <td>Alblasserdam</td>\n",
       "      <td>0482</td>\n",
       "      <td>South Holland</td>\n",
       "      <td>20,069</td>\n",
       "      <td>2,286/km2 (5,920/sq mi)</td>\n",
       "      <td>8.78 km2 (3.39 sq mi)</td>\n",
       "    </tr>\n",
       "  </tbody>\n",
       "</table>\n",
       "</div>"
      ],
      "text/plain": [
       "    Municipality CBS Code       Province Population       Population Density  \\\n",
       "0    Aa en Hunze     1680        Drenthe     25,386       92/km2 (240/sq mi)   \n",
       "1       Aalsmeer     0358  North Holland     31,728  1,577/km2 (4,080/sq mi)   \n",
       "2         Aalten     0197     Gelderland     27,011      280/km2 (730/sq mi)   \n",
       "3  Achtkarspelen     0059      Friesland     27,852      272/km2 (700/sq mi)   \n",
       "4   Alblasserdam     0482  South Holland     20,069  2,286/km2 (5,920/sq mi)   \n",
       "\n",
       "                   Land Area  \n",
       "0  276.09 km2 (106.60 sq mi)  \n",
       "1     20.12 km2 (7.77 sq mi)  \n",
       "2    96.54 km2 (37.27 sq mi)  \n",
       "3   102.23 km2 (39.47 sq mi)  \n",
       "4      8.78 km2 (3.39 sq mi)  "
      ]
     },
     "execution_count": 1,
     "metadata": {},
     "output_type": "execute_result"
    }
   ],
   "source": [
    "import requests\n",
    "from bs4 import BeautifulSoup\n",
    "import pandas as pd\n",
    "\n",
    "url='https://en.wikipedia.org/wiki/List_of_municipalities_of_the_Netherlands'\n",
    "r=requests.get(url)\n",
    "soup = BeautifulSoup(r.text,'html.parser')\n",
    "\n",
    "table=soup.find('table',{'class':'wikitable plainrowheaders sortable'})\n",
    "rows=table.find_all('tr')[1:]\n",
    "\n",
    "municipalities=[]\n",
    "cbs_codes=[]\n",
    "provinces=[]\n",
    "populations=[]\n",
    "pop_densities=[]\n",
    "land_areas=[]\n",
    "\n",
    "\n",
    "for row in rows:\n",
    "    municipality=row.find('th').text.strip()\n",
    "    municipalities.append(municipality)\n",
    "    cbs_code=row.find_all('td')[0].text.strip()\n",
    "    cbs_codes.append(cbs_code)\n",
    "    province=row.find_all('td')[1].text.strip()\n",
    "    provinces.append(province)\n",
    "    population=row.find_all('td')[2].text.strip()\n",
    "    populations.append(population)\n",
    "    pop_density=row.find_all('td')[3].text.strip()\n",
    "    pop_densities.append(pop_density)\n",
    "    land_area=row.find_all('td')[4].text.strip()\n",
    "    land_areas.append(land_area)\n",
    "\n",
    "#Create dataframe\n",
    "df = pd.DataFrame({'Municipality':municipalities,'CBS Code':cbs_codes,'Province':provinces,\n",
    "                   'Population':populations,'Population Density':pop_densities,'Land Area':land_areas})\n",
    "df.head()"
   ]
  },
  {
   "cell_type": "code",
   "execution_count": 2,
   "metadata": {},
   "outputs": [],
   "source": [
    "#Save scraped data to CSV file\n",
    "df.to_csv('Municipalities_of_NL.csv')"
   ]
  }
 ],
 "metadata": {
  "kernelspec": {
   "display_name": "Python 3",
   "language": "python",
   "name": "python3"
  },
  "language_info": {
   "codemirror_mode": {
    "name": "ipython",
    "version": 3
   },
   "file_extension": ".py",
   "mimetype": "text/x-python",
   "name": "python",
   "nbconvert_exporter": "python",
   "pygments_lexer": "ipython3",
   "version": "3.7.4"
  }
 },
 "nbformat": 4,
 "nbformat_minor": 2
}
